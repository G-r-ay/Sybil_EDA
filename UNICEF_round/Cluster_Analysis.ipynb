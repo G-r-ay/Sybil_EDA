{
 "cells": [
  {
   "cell_type": "code",
   "execution_count": null,
   "metadata": {},
   "outputs": [],
   "source": [
    "import pandas as pd\n",
    "import numpy as np\n",
    "import matplotlib.pyplot as plt\n",
    "import re\n",
    "from scipy.stats import spearmanr\n",
    "import seaborn as sns\n",
    "from collections import Counter\n",
    "from sklearn.cluster import KMeans, AgglomerativeClustering, BisectingKMeans\n",
    "from sklearn.decomposition import PCA\n",
    "from sklearn.preprocessing import LabelEncoder\n",
    "from sklearn.preprocessing import StandardScaler"
   ]
  },
  {
   "cell_type": "code",
   "execution_count": null,
   "metadata": {},
   "outputs": [],
   "source": [
    "pca = PCA()\n",
    "le = LabelEncoder()\n",
    "ss = StandardScaler()\n",
    "Kmeans = KMeans(2,n_init=5)\n",
    "Agglomerative_Clustering = AgglomerativeClustering(2,metric=\"euclidean\")\n",
    "bisect_means = BisectingKMeans(n_clusters=2)"
   ]
  },
  {
   "cell_type": "code",
   "execution_count": null,
   "metadata": {},
   "outputs": [],
   "source": [
    "votes = pd.read_csv('unicef_grant_votes.csv')\n",
    "votes.rename(columns={'amount': 'funding_amount','created_at':'Funded_at'}, inplace=True)\n",
    "votes['No_Grants_Funded'] = votes.groupby('source_wallet')['source_wallet'].transform('count')\n",
    "\n",
    "data = pd.read_csv('query_data.csv')\n",
    "data['last_trasaction_date'] = pd.to_datetime(data['last_trasaction_date'])\n",
    "data['first_transaction_date'] = pd.to_datetime(data['first_transaction_date'])\n"
   ]
  },
  {
   "cell_type": "code",
   "execution_count": null,
   "metadata": {},
   "outputs": [],
   "source": [
    "merged_df = pd.merge(data, votes , on='source_wallet', how='left')\\\n",
    "    .drop(['id'],axis =1)\n",
    "\n",
    "merged_df['first_transaction_date'] = pd.to_datetime(merged_df['first_transaction_date'])\n",
    "merged_df['last_trasaction_date'] = pd.to_datetime(merged_df['last_trasaction_date'])\n",
    "merged_df['Funded_at'] = pd.to_datetime(merged_df['Funded_at'])\n",
    "merged_df = merged_df.loc[merged_df['No_Grants_Funded']==1]"
   ]
  },
  {
   "cell_type": "code",
   "execution_count": null,
   "metadata": {},
   "outputs": [],
   "source": [
    "X = merged_df.copy()"
   ]
  },
  {
   "cell_type": "code",
   "execution_count": null,
   "metadata": {},
   "outputs": [],
   "source": [
    "X['first_transaction_date_day'] = X['first_transaction_date'].dt.day\n",
    "X['first_transaction_date_month'] = X['first_transaction_date'].dt.month\n",
    "X['first_transaction_date_year'] = X['first_transaction_date'].dt.year\n",
    "\n",
    "X['Funded_at_day'] = X['Funded_at'].dt.day\n",
    "X['Funded_at_month'] = X['Funded_at'].dt.month\n",
    "X['Funded_at_year'] = X['Funded_at'].dt.year\n",
    "\n",
    "X['last_trasaction_date_day'] = X['last_trasaction_date'].dt.day\n",
    "X['last_trasaction_date_month'] = X['last_trasaction_date'].dt.month\n",
    "X['last_trasaction_date_year'] = X['last_trasaction_date'].dt.year\n",
    "\n",
    "\n",
    "X.drop(['first_transaction_date','Funded_at','last_trasaction_date','destination_wallet'],axis =1,inplace=True)"
   ]
  },
  {
   "cell_type": "code",
   "execution_count": null,
   "metadata": {},
   "outputs": [],
   "source": [
    "X.drop_duplicates('source_wallet',inplace=True)\n",
    "\n",
    "X_numeric = X[X.select_dtypes(include=['int64', 'float64']).columns]\n",
    "\n",
    "X_scaled = ss.fit_transform(X_numeric)\n",
    "\n",
    "X_scaled = pd.DataFrame(X_scaled, columns=X_numeric.columns)"
   ]
  },
  {
   "cell_type": "code",
   "execution_count": null,
   "metadata": {},
   "outputs": [],
   "source": [
    "plt.figure(figsize=(7,5))\n",
    "sns.heatmap(data = X_scaled.corr(numeric_only=True), fmt='g', linewidths=.5, cbar=True)"
   ]
  },
  {
   "cell_type": "code",
   "execution_count": null,
   "metadata": {},
   "outputs": [],
   "source": [
    "X_pca = pca.fit_transform(X_scaled)"
   ]
  },
  {
   "cell_type": "code",
   "execution_count": null,
   "metadata": {},
   "outputs": [],
   "source": [
    "labels1 = Kmeans.fit_predict(X_pca)\n",
    "Counter(labels1)"
   ]
  },
  {
   "cell_type": "code",
   "execution_count": null,
   "metadata": {},
   "outputs": [],
   "source": [
    "labels2 = Agglomerative_Clustering.fit_predict(X_pca)\n",
    "Counter(labels2)"
   ]
  },
  {
   "cell_type": "code",
   "execution_count": null,
   "metadata": {},
   "outputs": [],
   "source": [
    "labels3 = bisect_means.fit_predict(X_pca)\n",
    "Counter(labels3)"
   ]
  },
  {
   "cell_type": "code",
   "execution_count": null,
   "metadata": {},
   "outputs": [],
   "source": [
    "lists = [labels1, labels2,labels3]\n",
    "corr_matrix = np.corrcoef(lists)\n",
    "print(corr_matrix)"
   ]
  },
  {
   "cell_type": "code",
   "execution_count": null,
   "metadata": {},
   "outputs": [],
   "source": [
    "majority_vote = []\n",
    "\n",
    "for i, j, k in zip(labels1, labels2, labels3):\n",
    "    count_i = [i, j, k].count(i)\n",
    "    count_j = [i, j, k].count(j)\n",
    "    count_k = [i, j, k].count(k)\n",
    "    if count_i >= count_j and count_i >= count_k:\n",
    "        majority_vote.append(i)\n",
    "    elif count_j >= count_i and count_j >= count_k:\n",
    "        majority_vote.append(j)\n",
    "    else:\n",
    "        majority_vote.append(k)"
   ]
  },
  {
   "cell_type": "code",
   "execution_count": null,
   "metadata": {},
   "outputs": [],
   "source": [
    "X['Sybil_status'] = majority_vote"
   ]
  },
  {
   "cell_type": "code",
   "execution_count": null,
   "metadata": {},
   "outputs": [],
   "source": [
    "X['Sybil_status'].value_counts()"
   ]
  },
  {
   "cell_type": "code",
   "execution_count": null,
   "metadata": {},
   "outputs": [],
   "source": [
    "tp = X.loc[X['Sybil_status']== 1]"
   ]
  },
  {
   "cell_type": "code",
   "execution_count": null,
   "metadata": {},
   "outputs": [],
   "source": [
    "data = tp.loc[(tp['txn_count']<=10)&(tp['No_Days_Active']<=3)]"
   ]
  },
  {
   "cell_type": "code",
   "execution_count": null,
   "metadata": {},
   "outputs": [],
   "source": [
    "sns.heatmap(data.corr())"
   ]
  },
  {
   "cell_type": "code",
   "execution_count": null,
   "metadata": {},
   "outputs": [],
   "source": [
    "data.to_csv('sybil_data.csv',index=False)"
   ]
  },
  {
   "cell_type": "code",
   "execution_count": null,
   "metadata": {},
   "outputs": [],
   "source": []
  }
 ],
 "metadata": {
  "kernelspec": {
   "display_name": "Data_Science",
   "language": "python",
   "name": "python3"
  },
  "language_info": {
   "codemirror_mode": {
    "name": "ipython",
    "version": 3
   },
   "file_extension": ".py",
   "mimetype": "text/x-python",
   "name": "python",
   "nbconvert_exporter": "python",
   "pygments_lexer": "ipython3",
   "version": "3.10.8 | packaged by conda-forge | (main, Nov 24 2022, 14:07:00) [MSC v.1916 64 bit (AMD64)]"
  },
  "orig_nbformat": 4,
  "vscode": {
   "interpreter": {
    "hash": "636f10b70521aaaf542b619a60cb1385d871f69b449a7c4bcc4fdf0d633b1be8"
   }
  }
 },
 "nbformat": 4,
 "nbformat_minor": 2
}
