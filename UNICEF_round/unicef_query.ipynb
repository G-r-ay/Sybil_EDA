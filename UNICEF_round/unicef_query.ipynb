{
 "cells": [
  {
   "cell_type": "code",
   "execution_count": 1,
   "metadata": {},
   "outputs": [],
   "source": [
    "import pandas as pd\n",
    "import time\n",
    "import requests\n",
    "import json\n",
    "from moralis import evm_api\n",
    "import re"
   ]
  },
  {
   "cell_type": "code",
   "execution_count": 5,
   "metadata": {},
   "outputs": [],
   "source": [
    "votes = pd.read_csv('unicef_grant_votes.csv')\n",
    "votes.rename(columns={'amount': 'funding_amount','created_at':'Funded_at'}, inplace=True)\n",
    "votes['No_Grants_Funded'] = votes.groupby('source_wallet')['source_wallet'].transform('count')\n"
   ]
  },
  {
   "cell_type": "code",
   "execution_count": null,
   "metadata": {},
   "outputs": [],
   "source": [
    "\n",
    "def get_transactions_and_date_info(address):\n",
    "    dates = []\n",
    "    api_key = \"api-key\"\n",
    "    params = {\n",
    "        \"address\": address, \n",
    "        \"chain\": 'eth',\n",
    "        }\n",
    "\n",
    "    txn_history = evm_api.transaction.get_wallet_transactions(\n",
    "        api_key=api_key,\n",
    "        params=params,\n",
    "    )\n",
    "    txn_history = txn_history['result']\n",
    "    for index in range(len(txn_history)):\n",
    "        date = txn_history[index]['block_timestamp']\n",
    "        trimmed = re.search(r'\\d{4}-\\d{2}-\\d{2}', date).group(0)\n",
    "        dates.append(trimmed)\n",
    "\n",
    "    dates = [*set(dates)]\n",
    "\n",
    "    first_active_date =  re.search(r'\\d{4}-\\d{2}-\\d{2}',txn_history[-1]['block_timestamp']).group(0)\n",
    "\n",
    "    last_active_date = re.search(r'\\d{4}-\\d{2}-\\d{2}',txn_history[0]['block_timestamp']).group(0)\n",
    "\n",
    "    inital_ammount_recieved = int(txn_history[-1]['value'])/10**18\n",
    "\n",
    "    last_trasaction_out = txn_history[0]['to_address']\n",
    "    \n",
    "    return len(dates),inital_ammount_recieved,last_trasaction_out,first_active_date,last_active_date\n",
    "\n",
    "def get_txn_count(address):\n",
    "    pokt_eth_endpoint = \"https://eth-mainnet.gateway.pokt.network/v1/lb/00000000000000000000000\"\n",
    "    headers = {'content-type': 'application/json'}\n",
    "\n",
    "    payload = {\n",
    "        \"method\": \"eth_getTransactionCount\",\n",
    "        \"params\": [address, \"latest\"],\n",
    "        \"jsonrpc\": \"2.0\",\n",
    "        \"id\": 1,\n",
    "    }\n",
    "    response = requests.post(pokt_eth_endpoint, data=json.dumps(payload), headers=headers).json()\n",
    "    transaction_count = int(response['result'], 16)\n",
    "    return transaction_count\n",
    "\n",
    "\n",
    "def get_balance(address):\n",
    "    pokt_Eth_endpoint = \"https://eth-mainnet.gateway.pokt.network/v1/lb/00000000000000000000000\"\n",
    "    headers = {'content-type': 'application/json'}\n",
    "\n",
    "    payload = {\n",
    "        \"method\": \"eth_getBalance\",\n",
    "        \"params\": [address, \"latest\"],\n",
    "        \"jsonrpc\": \"2.0\",\n",
    "        \"id\": 1,\n",
    "    }\n",
    "    response = requests.post(pokt_Eth_endpoint, data=json.dumps(payload), headers=headers).json()\n",
    "    balance = int(response['result'], 16)\n",
    "    balance_in_eth = balance/10**18\n",
    "    return balance_in_eth\n"
   ]
  },
  {
   "cell_type": "code",
   "execution_count": null,
   "metadata": {},
   "outputs": [],
   "source": [
    "data = pd.DataFrame([[],[],[],[],[],[],[],[]]).transpose()\n",
    "data.rename(columns={0: 'source_wallet', 1: 'txn_count',2:'No_Days_Active',3:'initial_funding',4:'Last_txn_out',5:'balance',6:'first_active_date',7:'last_trasaction_out'},inplace=True)"
   ]
  },
  {
   "cell_type": "code",
   "execution_count": null,
   "metadata": {},
   "outputs": [],
   "source": [
    "def Query_data(dataframe):\n",
    "    for address in votes.source_wallet.unique():\n",
    "        pseudo_dataframe = []\n",
    "        no_grants_funded = len(dataframe['No_Grants_Funded'].loc[dataframe.source_wallet == address])\n",
    "        if no_grants_funded <= 5:\n",
    "            print(1,address)\n",
    "            noda,inital_fund,lto,fad,lad = get_transactions_and_date_info(address)\n",
    "            txn_count = get_txn_count(address)\n",
    "            balance =get_balance(address)\n",
    "            pseudo_dataframe.append(address)\n",
    "            pseudo_dataframe.append(txn_count)\n",
    "            pseudo_dataframe.append(noda)\n",
    "            pseudo_dataframe.append(inital_fund)\n",
    "            pseudo_dataframe.append(lto)\n",
    "            pseudo_dataframe.append(balance)\n",
    "            pseudo_dataframe.append(pd.to_datetime(fad))\n",
    "            pseudo_dataframe.append(pd.to_datetime(lad))\n",
    "            print(1,address)\n",
    "            data.loc[len(data.index)] = pseudo_dataframe\n",
    "            time.sleep(1.5)\n",
    "        else:\n",
    "            print(2)\n"
   ]
  },
  {
   "cell_type": "code",
   "execution_count": null,
   "metadata": {},
   "outputs": [],
   "source": [
    "Query_data(votes)"
   ]
  },
  {
   "cell_type": "code",
   "execution_count": null,
   "metadata": {},
   "outputs": [],
   "source": [
    "data.to_csv('data.csv',index=False)"
   ]
  }
 ],
 "metadata": {
  "kernelspec": {
   "display_name": "Data_Science",
   "language": "python",
   "name": "python3"
  },
  "language_info": {
   "codemirror_mode": {
    "name": "ipython",
    "version": 3
   },
   "file_extension": ".py",
   "mimetype": "text/x-python",
   "name": "python",
   "nbconvert_exporter": "python",
   "pygments_lexer": "ipython3",
   "version": "3.10.8 | packaged by conda-forge | (main, Nov 24 2022, 14:07:00) [MSC v.1916 64 bit (AMD64)]"
  },
  "orig_nbformat": 4,
  "vscode": {
   "interpreter": {
    "hash": "636f10b70521aaaf542b619a60cb1385d871f69b449a7c4bcc4fdf0d633b1be8"
   }
  }
 },
 "nbformat": 4,
 "nbformat_minor": 2
}
